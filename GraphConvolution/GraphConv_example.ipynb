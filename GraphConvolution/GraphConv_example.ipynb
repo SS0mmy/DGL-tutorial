{
 "cells": [
  {
   "cell_type": "markdown",
   "metadata": {},
   "source": [
    "## GraphConv"
   ]
  },
  {
   "cell_type": "markdown",
   "metadata": {},
   "source": [
    "Graph Convolutional Layer from $\\text{Semi-Supervised Classficiation with Graph Convolutional Networks}$ : https://arxiv.org/abs/1609.02907\n",
    "\n",
    "Mathematicall it is defined as follows:  \n",
    "\n",
    "### $h^{(l+1)}_i = \\sigma ( b^{(l)} + \\sum_{j \\in N(i)} \\frac{1}{c_{ji}} h^{(l)}_j W^{(l)}$\n",
    "\n",
    "$\\ $\n",
    "\n",
    "$N(i)$는 Node $j$와 인접한 노드들의 집합을 의미하고, $c_{ji} = \\sqrt{|N(j)|} \\sqrt{|N(i)}$는  각 노드 차수의 root를 취한 후 곱셈을 한 것으로, $\\text{Laplacian normalization}$을 의미한다.\n",
    "\n",
    "$\\ $\n",
    "\n",
    "weight Graph인 경우 : \n",
    "\n",
    "### $h^{(l+1)}_i = \\sigma ( b^{(l)} + \\sum_{j \\in N(i)} \\frac{e_{ij}}{c_{ji}} h^{(l)}_j W^{(l)}$"
   ]
  },
  {
   "cell_type": "code",
   "execution_count": 2,
   "metadata": {},
   "outputs": [
    {
     "name": "stderr",
     "output_type": "stream",
     "text": [
      "c:\\Users\\EonKim\\anaconda3\\envs\\dgl\\lib\\site-packages\\tqdm\\auto.py:22: TqdmWarning: IProgress not found. Please update jupyter and ipywidgets. See https://ipywidgets.readthedocs.io/en/stable/user_install.html\n",
      "  from .autonotebook import tqdm as notebook_tqdm\n"
     ]
    }
   ],
   "source": [
    "import dgl \n",
    "import numpy as np \n",
    "import torch\n",
    "from dgl.nn import GraphConv \n",
    "import networkx as nx\n",
    "\n",
    "import torch \n",
    "import torch.nn as nn \n",
    "import torch.optim as optim \n",
    "\n",
    "from torch_geometric.data import Data\n",
    "from torch_geometric.utils.convert import to_networkx"
   ]
  },
  {
   "cell_type": "code",
   "execution_count": 3,
   "metadata": {},
   "outputs": [],
   "source": [
    "# Case 1: Homogeneous Graph\n",
    "g = dgl.graph(([0, 1, 2, 3, 2, 5], \n",
    "               [1, 2, 3, 4, 0, 3]))\n",
    "g = dgl.add_self_loop(g) # self-connection"
   ]
  },
  {
   "cell_type": "code",
   "execution_count": 4,
   "metadata": {},
   "outputs": [
    {
     "data": {
      "image/png": "[encoded data removed]",
      "text/plain": [
       "<Figure size 432x288 with 1 Axes>"
      ]
     },
     "metadata": {},
     "output_type": "display_data"
    }
   ],
   "source": [
    "graph = torch.LongTensor([[0, 1, 2, 3, 2, 5], \n",
    "                          [1, 2, 3, 4, 0, 3]])\n",
    "\n",
    "graph_data = Data(edge_index = graph, num_nodes=5)\n",
    "G = to_networkx(graph_data)\n",
    "\n",
    "nx.draw_networkx(G)"
   ]
  },
  {
   "cell_type": "code",
   "execution_count": 5,
   "metadata": {},
   "outputs": [],
   "source": [
    "node_features = torch.ones(6, 10)"
   ]
  },
  {
   "cell_type": "markdown",
   "metadata": {},
   "source": [
    "$\\text{norm } \\rightarrow \\text{(optional)}, \\text{How to apply the normalizer.} $\n",
    "\n",
    "$ \\text{norm='both'} \\rightarrow \\ \\frac{1}{c_{ij}} $\n",
    "\n",
    "$\\ $\n",
    "\n",
    "$ \\text{weight : bool, (optional) : } $ \n",
    "\n",
    "$ \\text{If True, apply a linear layer. Otherwise, aggregating the messages without a weight matrix.} $\n",
    "\n",
    "$\\ $\n",
    "\n",
    "$ \\text{allow zero in degree : bool, (optional)} $\n",
    "\n",
    "$ \\text{Graph} $에 차수가 0인 노드가 있는 경우 해당 노드에는 메세지가 전달되지 않음. ($\\text{neighbors}$를 기반으로 $\\text{update}$하기 때문에)\n",
    "\n",
    "그래프 내에 $\\text{degree=0}$인 노드가 존재하는 경우 $\\text{DGLError}$를 출력함."
   ]
  },
  {
   "cell_type": "code",
   "execution_count": 6,
   "metadata": {},
   "outputs": [],
   "source": [
    "conv = GraphConv(10, 2, norm='both', weight=True, bias = True)\n",
    "res = conv(g, node_features)"
   ]
  },
  {
   "cell_type": "code",
   "execution_count": 7,
   "metadata": {},
   "outputs": [
    {
     "data": {
      "text/plain": [
       "tensor([[ 0.2465, -1.4886],\n",
       "        [ 0.2714, -1.6390],\n",
       "        [ 0.2465, -1.4886],\n",
       "        [ 0.3120, -1.8846],\n",
       "        [ 0.3276, -1.9784],\n",
       "        [ 0.1919, -1.1589]], grad_fn=<AddBackward0>)"
      ]
     },
     "execution_count": 7,
     "metadata": {},
     "output_type": "execute_result"
    }
   ],
   "source": [
    "res"
   ]
  },
  {
   "cell_type": "code",
   "execution_count": 51,
   "metadata": {},
   "outputs": [
    {
     "data": {
      "text/plain": [
       "True"
      ]
     },
     "execution_count": 51,
     "metadata": {},
     "output_type": "execute_result"
    }
   ],
   "source": []
  }
 ],
 "metadata": {
  "kernelspec": {
   "display_name": "Python 3.10.4 ('dgl')",
   "language": "python",
   "name": "python3"
  },
  "language_info": {
   "codemirror_mode": {
    "name": "ipython",
    "version": 3
   },
   "file_extension": ".py",
   "mimetype": "text/x-python",
   "name": "python",
   "nbconvert_exporter": "python",
   "pygments_lexer": "ipython3",
   "version": "3.10.4"
  },
  "orig_nbformat": 4,
  "vscode": {
   "interpreter": {
    "hash": "91f4586c667beba9fc73d5e38cfe2361778c9000e218f655761c33977cb8e239"
   }
  }
 },
 "nbformat": 4,
 "nbformat_minor": 2
}
