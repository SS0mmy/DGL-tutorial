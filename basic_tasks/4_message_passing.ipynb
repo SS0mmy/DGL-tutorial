{
 "cells": [
  {
   "cell_type": "markdown",
   "metadata": {},
   "source": [
    "## $ \\text{Customize Graph Convolution using Message Passing APIs} $\n",
    "\n",
    "이전 세션 (GCN)에서는 GraphSAGE를 사용해서 Node와 Edge를 예측했습니다. \n",
    "\n",
    "이와 같은 방식은 Spectral Convoltion Network 이며, 이번 세션에서는 Message passing 즉, Spatial Convolution에 대해서 다룹니다. \n",
    "\n",
    "Message passing을 제안한 논문인 $ \\text{Neural Message Passing for Quantum Chemistry}$ [Gilmer et al.](https://arxiv.org/pdf/1704.01212.pdf)는 GCN을 제안한 논문에서 사용한 방법을 모티브로 MPNN을 제안하였습니다. "
   ]
  },
  {
   "cell_type": "code",
   "execution_count": 2,
   "metadata": {},
   "outputs": [],
   "source": [
    "import dgl \n",
    "\n",
    "import torch \n",
    "import torch.nn as nn \n",
    "import torch.nn.functional as F \n",
    "\n",
    "import dgl.function as fn "
   ]
  },
  {
   "cell_type": "markdown",
   "metadata": {},
   "source": [
    "$$\n",
    "h_{\\mathcal{N}(v)}^k\\leftarrow \\text{AGGREGATE}_k\\{h_u^{k-1},\\forall u\\in\\mathcal{N}(v)\\}\n",
    "$$\n",
    "\n",
    "$$\n",
    "h_v^k\\leftarrow \\text{ReLU}\\left(W^k\\cdot \\text{CONCAT}(h_v^{k-1}, h_{\\mathcal{N}(v)}^k) \\right)\n",
    "$$"
   ]
  },
  {
   "cell_type": "code",
   "execution_count": 3,
   "metadata": {},
   "outputs": [],
   "source": [
    "class SAGEConv(nn.Module):\n",
    "    \"\"\"\n",
    "    Parameters\n",
    "    ----------\n",
    "    in_feat : int \n",
    "        Input feature size.\n",
    "    out_feat : int\n",
    "        Output features size.\n",
    "    \"\"\"\n",
    "    def __init_(self, in_feat, out_feat):\n",
    "        super(SAGEConv, self).__init__()\n",
    "        self.linear = nn.Linear(in_feat*2, out_feat)\n",
    "        \n",
    "    def forward(self, g, h):\n",
    "        \"\"\"\n",
    "        Parameters\n",
    "        ----------\n",
    "        g : Graph \n",
    "            The input graph.\n",
    "        h : Tensor\n",
    "            The input node features.\n",
    "        \"\"\"\n",
    "        \n",
    "        with g.local_scope():\n",
    "            g.ndata['h'] = h \n",
    "            g.update_all(fn.copy_u('h', 'm'), fn.mean('m', 'h_neigh'))\n",
    "            h_neigh = g.ndata['h_neigh']\n",
    "            h_total = torch.cat([h, h_neigh], dim=1)\n",
    "            return F.relu()"
   ]
  },
  {
   "cell_type": "markdown",
   "metadata": {},
   "source": [
    "* Message Function `fn.copy_u('h', 'm')` `'h'`의 node feature를 복사해서 이웃 노드에게 전달하는 역할을 합니다. \n",
    "* Reduce Function `fn.mean('m', 'h_neigh')` 전달 받은 메세지(`'m'`)를 평균낸 후 `'h_neigh'`라는 이름으로 새로운 node feature를 저장합니다. \n",
    "* `update_all`은 모든 node와 edge에 대한 message function과 reduce function를 만들기 위한 함수입니다.\n",
    "\n",
    "\n",
    "$$ \n",
    "m^{(l)}_{u~v} = M^{(l)} (h^{(l-1)}_v, h^{(l-1)}_u, e^{(l-1)}_{u~v}) \n",
    "$$ \n",
    "\n",
    "$$\n",
    "m^{(l)}_v = \\sum_{u \\in \\mathcal{N}(v)} m^{(l)}_{u~v}\n",
    "$$\n",
    "\n",
    "$$\n",
    "h^{(l)}_v = U^{(l)}(h^{(l-1)}_v, m^{(l)}_v)\n",
    "$$\n",
    "\n",
    "$M^{(l)}$은 message function이며, $\\sum$은 reduce function을 의미합니다. $U$는 node undate function을 의미합니다.\n",
    "\n",
    "이를 통해 최종적으로 readout function $R$을 통과하여 $\\hat{y}$를 예측하게 됩니다. \n",
    "\n",
    "$$\n",
    "\\hat{y} = R(\\{ h^T_v | v \\in G \\})\n",
    "$$\n",
    "\n",
    "$h^T_v$는 T 번째 hidden state를 의미합니다. 이와 같은 과정을 3번 반복한 경우 $h^3_v$이 됩니다."
   ]
  },
  {
   "cell_type": "code",
   "execution_count": 5,
   "metadata": {},
   "outputs": [],
   "source": [
    "# user-defined message function that is equivalent to \"fn.u_mul_e('h', 'w', 'm')\"\n",
    "def u_num_e_udf(edges):\n",
    "    return {'m':edges.src['h'] * edges.data['w']}"
   ]
  },
  {
   "cell_type": "code",
   "execution_count": null,
   "metadata": {},
   "outputs": [],
   "source": []
  }
 ],
 "metadata": {
  "kernelspec": {
   "display_name": "Python 3.10.4 ('dgl')",
   "language": "python",
   "name": "python3"
  },
  "language_info": {
   "codemirror_mode": {
    "name": "ipython",
    "version": 3
   },
   "file_extension": ".py",
   "mimetype": "text/x-python",
   "name": "python",
   "nbconvert_exporter": "python",
   "pygments_lexer": "ipython3",
   "version": "3.10.4"
  },
  "orig_nbformat": 4,
  "vscode": {
   "interpreter": {
    "hash": "91f4586c667beba9fc73d5e38cfe2361778c9000e218f655761c33977cb8e239"
   }
  }
 },
 "nbformat": 4,
 "nbformat_minor": 2
}
