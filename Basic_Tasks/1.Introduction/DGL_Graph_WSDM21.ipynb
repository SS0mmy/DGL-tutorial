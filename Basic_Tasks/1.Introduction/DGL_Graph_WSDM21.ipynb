{
 "cells": [
  {
   "cell_type": "code",
   "execution_count": 2,
   "metadata": {},
   "outputs": [],
   "source": [
    "import matplotlib.pyplot as plt \n",
    "\n",
    "%matplotlib inline"
   ]
  },
  {
   "cell_type": "markdown",
   "metadata": {},
   "source": [
    "## DGL Graph Construction\n",
    "\n",
    "source node와 destination node를 지정하고 노드의 수를 지정함으로써 그래프를 만들 수 있습니다.\n",
    "\n",
    "이때 source node는 출발 노드를 의미하고 destination 노드는 도착 노드를 의미합니다."
   ]
  },
  {
   "cell_type": "code",
   "execution_count": 3,
   "metadata": {},
   "outputs": [
    {
     "name": "stdout",
     "output_type": "stream",
     "text": [
      "Graph(num_nodes=6, num_edges=5,\n",
      "      ndata_schemes={}\n",
      "      edata_schemes={})\n",
      "(tensor([0, 0, 0, 0, 0]), tensor([1, 2, 3, 4, 5]))\n"
     ]
    }
   ],
   "source": [
    "import dgl \n",
    "import numpy as np \n",
    "import torch \n",
    "\n",
    "g = dgl.graph(\n",
    "    ([0, 0, 0, 0, 0], \n",
    "     [1, 2, 3, 4, 5]), num_nodes = 6)\n",
    "\n",
    "g = dgl.graph(\n",
    "    (torch.LongTensor([0, 0, 0, 0, 0]), \n",
    "     torch.LongTensor([1, 2, 3, 4, 5])), num_nodes = 6\n",
    ")\n",
    "\n",
    "g = dgl.graph(\n",
    "    ([0, 0, 0, 0, 0], \n",
    "     [1, 2, 3, 4, 5])\n",
    ")\n",
    "\n",
    "print(g)\n",
    "print(g.edges())"
   ]
  },
  {
   "cell_type": "markdown",
   "metadata": {},
   "source": [
    "## Assigning Node and Edge Features to Graph \n",
    "\n",
    "실제 그래프 내 node와 edge에는 많은 속성들이 존재할 수 있으나, `DGLgraph`는  Tensor 내에 속한 속성들만 고려합니다. 모든 속성들은 node와 edge에 대해서 반드시 동일한 shape를 가지고 있어야 합니다. "
   ]
  },
  {
   "cell_type": "code",
   "execution_count": 4,
   "metadata": {},
   "outputs": [
    {
     "name": "stdout",
     "output_type": "stream",
     "text": [
      "tensor([[ 1.3593, -0.4375,  0.5276,  0.1857],\n",
      "        [-1.0860, -0.6479,  0.2746,  0.1281],\n",
      "        [-0.1216,  0.5021,  0.6441,  0.8764],\n",
      "        [-0.2157, -0.8268,  0.1002,  0.7997],\n",
      "        [ 2.2535,  1.3702, -0.0113, -0.8284]])\n"
     ]
    }
   ],
   "source": [
    "# ndata : node data \n",
    "# edata : edge data\n",
    "\n",
    "g.ndata['x'] = torch.randn(6, 3)\n",
    "g.edata['a'] = torch.randn(5, 4)\n",
    "g.ndata['y'] = torch.randn(6, 5, 4)\n",
    "\n",
    "print(g.edata['a'])"
   ]
  },
  {
   "cell_type": "markdown",
   "metadata": {},
   "source": [
    "## Querying Graph Structure \n",
    "\n",
    "`DGLGraph`는 그래프 구조를 조회하기 위한 다양한 메소드를 제공합니다. "
   ]
  },
  {
   "cell_type": "code",
   "execution_count": 5,
   "metadata": {},
   "outputs": [
    {
     "name": "stdout",
     "output_type": "stream",
     "text": [
      "6\n",
      "5\n",
      "tensor([5, 0, 0, 0, 0, 0])\n",
      "tensor([0, 1, 1, 1, 1, 1])\n"
     ]
    }
   ],
   "source": [
    "print(g.num_nodes())\n",
    "print(g.num_edges())\n",
    "\n",
    "print(g.out_degrees())\n",
    "print(g.in_degrees())"
   ]
  },
  {
   "cell_type": "markdown",
   "metadata": {},
   "source": [
    "## Graph Transformations"
   ]
  },
  {
   "cell_type": "code",
   "execution_count": 8,
   "metadata": {},
   "outputs": [],
   "source": [
    "# node0, 1, 3으로 구성된 subgraph를 의미합니다.\n",
    "subgraph1 = g.subgraph([0, 1, 3])\n",
    "\n",
    "# edge0, 1, 3으로 구성된 subgraph를 의미합니다. \n",
    "subgraph2 = g.edge_subgraph([0, 1, 3])"
   ]
  },
  {
   "cell_type": "code",
   "execution_count": 12,
   "metadata": {},
   "outputs": [
    {
     "name": "stdout",
     "output_type": "stream",
     "text": [
      "original ID of each node in subgraph1 tensor([0, 1, 3])\n",
      "original ID of each edge in subgraph1 tensor([0, 2]) \n",
      "\n",
      "original ID of each node in subgraph2 tensor([0, 1, 2, 4])\n",
      "original ID of each edge in subgraph2 tensor([0, 1, 3])\n"
     ]
    }
   ],
   "source": [
    "# 새로 생성된 그래프에서 `dgl.NID`, `dgl.EID`를 사용함으로써 subgraph에서 original Graph의 node, edge를 찾을 수 있습니다.\n",
    "\n",
    "print('original ID of each node in subgraph1', subgraph1.ndata[dgl.NID])\n",
    "print('original ID of each edge in subgraph1', subgraph1.edata[dgl.EID], '\\n')\n",
    "\n",
    "print('original ID of each node in subgraph2', subgraph2.ndata[dgl.NID])\n",
    "print('original ID of each edge in subgraph2', subgraph2.edata[dgl.EID])"
   ]
  },
  {
   "cell_type": "code",
   "execution_count": 13,
   "metadata": {},
   "outputs": [
    {
     "name": "stdout",
     "output_type": "stream",
     "text": [
      "tensor([[ 0.4079, -1.5587, -0.0272],\n",
      "        [ 0.3309, -0.7207, -2.6636],\n",
      "        [-1.1461, -1.6150,  0.0752]])\n",
      "tensor([[ 1.3593, -0.4375,  0.5276,  0.1857],\n",
      "        [-0.1216,  0.5021,  0.6441,  0.8764]])\n",
      "tensor([[ 0.4079, -1.5587, -0.0272],\n",
      "        [ 0.3309, -0.7207, -2.6636],\n",
      "        [-1.5584, -1.4018,  0.0499],\n",
      "        [-0.0405, -0.3424,  0.4922]])\n",
      "tensor([[ 1.3593, -0.4375,  0.5276,  0.1857],\n",
      "        [-1.0860, -0.6479,  0.2746,  0.1281],\n",
      "        [-0.2157, -0.8268,  0.1002,  0.7997]])\n"
     ]
    }
   ],
   "source": [
    "# subgraph와 edge_subgraph는 node와 edge 뿐만 아니라 feature 까지 가지고 옵니다. \n",
    "print(subgraph1.ndata['x'])\n",
    "print(subgraph1.edata['a'])\n",
    "\n",
    "print(subgraph2.ndata['x'])\n",
    "print(subgraph2.edata['a'])"
   ]
  },
  {
   "cell_type": "code",
   "execution_count": 17,
   "metadata": {},
   "outputs": [
    {
     "data": {
      "text/plain": [
       "(tensor([0, 0, 0, 0, 0, 1, 2, 3, 4, 5]),\n",
       " tensor([1, 2, 3, 4, 5, 0, 0, 0, 0, 0]))"
      ]
     },
     "execution_count": 17,
     "metadata": {},
     "output_type": "execute_result"
    }
   ],
   "source": [
    "# add_reverse_edge를 수행하면 undirected graph가 있을 때 이를 양방향 그래프로 변환한 후 실험을 진행하면 보다 좋습니다. \n",
    "new_graph = dgl.add_reverse_edges(g)\n",
    "new_graph.edges()"
   ]
  },
  {
   "cell_type": "markdown",
   "metadata": {},
   "source": [
    "## Loading and Saving Graphs "
   ]
  },
  {
   "cell_type": "code",
   "execution_count": null,
   "metadata": {},
   "outputs": [],
   "source": [
    "# glist, label_dict = load_graphs('path')\n",
    "\n",
    "# Save Graph \n",
    "dgl.save_graphs('graph.dgl', g)\n",
    "dgl.save_graphs('graphs.dgl', [g, subgraph1, subgraph2])\n",
    "\n",
    "# Load Graph \n",
    "(g,), _ = dgl.load_graphs('graph.dgl')\n",
    "print(g)\n",
    "\n",
    "(g, subgraph1, subgraph2), _ = dgl.load_graphs('graphs.dgl')\n",
    "print(g)\n",
    "print(subgraph1)\n",
    "print(subgraph2)"
   ]
  },
  {
   "cell_type": "code",
   "execution_count": null,
   "metadata": {},
   "outputs": [],
   "source": []
  },
  {
   "cell_type": "code",
   "execution_count": null,
   "metadata": {},
   "outputs": [],
   "source": []
  },
  {
   "cell_type": "code",
   "execution_count": null,
   "metadata": {},
   "outputs": [],
   "source": []
  },
  {
   "cell_type": "code",
   "execution_count": null,
   "metadata": {},
   "outputs": [],
   "source": []
  }
 ],
 "metadata": {
  "kernelspec": {
   "display_name": "Python 3.7.11 ('base')",
   "language": "python",
   "name": "python3"
  },
  "language_info": {
   "codemirror_mode": {
    "name": "ipython",
    "version": 3
   },
   "file_extension": ".py",
   "mimetype": "text/x-python",
   "name": "python",
   "nbconvert_exporter": "python",
   "pygments_lexer": "ipython3",
   "version": "3.7.11"
  },
  "orig_nbformat": 4,
  "vscode": {
   "interpreter": {
    "hash": "d4d1e4263499bec80672ea0156c357c1ee493ec2b1c70f0acce89fc37c4a6abe"
   }
  }
 },
 "nbformat": 4,
 "nbformat_minor": 2
}
