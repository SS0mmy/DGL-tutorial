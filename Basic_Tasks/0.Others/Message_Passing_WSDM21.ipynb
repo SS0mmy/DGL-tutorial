{
 "cells": [
  {
   "cell_type": "code",
   "execution_count": 1,
   "metadata": {},
   "outputs": [],
   "source": [
    "import dgl \n",
    "import torch \n",
    "import torch.nn as nn \n",
    "import torch.optim as optim \n",
    "import torch.nn.functional as F "
   ]
  },
  {
   "cell_type": "markdown",
   "metadata": {},
   "source": [
    "## Message Passing and GNNs\n",
    "\n",
    "DGL 패키지의 `Message Passing`은 [Gilmer et al.](https://arxiv.org/abs/1704.01212) 가 제안한 MPNN에서 영감을 받았으며, MPNN의 수식은 다음과 같다. \n",
    "\n",
    "$$ m^{(l)}_{u \\rightarrow v} = M^{(l)}(h^{(l-1)}_v, h^{(l-1)}_u, e^{(l-1)}_{u \\rightarrow v}) \\cdot m^{(l)}_v = \\sum_{u \\in \\mathcal{N}(v)} m^{(l)}_{u \\rightarrow v} h^{(l)}_v = U^{(l)}(h^{(l-1)}_v, m^{(l)}_v) $$\n",
    "\n",
    "$M^{(l)}$은 `Message Passing` 함수를 의미하고, $\\sum$은 reduce function, 그리고 $U^{(l)}$은 update function을 의미한다. 이때 $\\sum$은 합계를 의미할 수도 있고 다른 함수가 될 수도 있습니다.\n",
    "\n",
    "`Message Passing`은 주변 노드로 부터 `Message`를 받는 다는 것을 의미합니다. \n",
    "\n",
    "본 튜토리얼에서는 2017년에 제안된 `GraphSAGE`를 사용하며, 수식은 아래와 같습니다.\n",
    "\n",
    "$$ h^k_{\\mathcal{N}(v)} \\leftarrow \\text{Average}\\{ h^{k-1}_u, \\forall u \\in \\mathcal{N}\\}h^k_v \\leftarrow \\text{ReLU} ( W^k \\cdot \\text{CONCAT}(h^{k-1}_v, h^k_{\\mathcal{N}(v)})) $$ "
   ]
  },
  {
   "cell_type": "code",
   "execution_count": 7,
   "metadata": {},
   "outputs": [],
   "source": [
    "\n",
    "\n",
    "import dgl.function as fn \n",
    "\n",
    "class SAGEConv(nn.Module):\n",
    "    def __init__(self, in_feats, out_feats):\n",
    "        super(SAGEConv, self).__init__()\n",
    "        self.linear = nn.Linear(in_feats*2, out_feats)\n",
    "\n",
    "    def forward(self, g, h):\n",
    "        '''\n",
    "        fn.copy_u: Message function을 의미합니다. Neighbor에게 보내는 message로 node feature `h`를 복사합니다.\n",
    "        fn.mean(`m`, `h_N`): Reduce function을 의미합니다. `m`은 받은 message의 평균을 의미하고, 결과를 새로운 node feature `h_N`에 저장합니다.\n",
    "\n",
    "        '''\n",
    "        with g.local_scope(): # local의 범위를 g로 지정함으로써 여기에서 계산된 값은 original graph에 반영되지 않기 때문에 forward 연산을 수행하기 쉬워집니다.\n",
    "            g.ndata['h'] = h \n",
    "            g.update_all(message_func=fn.copy_u('h', 'm'), reduce_func=fn.mean('m', 'h_N'))\n",
    "            h_N = g.ndata['h_N']\n",
    "            h_total = torch.cat([h, h_N], dim=1)\n",
    "            return self.linear(h_total)\n",
    "\n",
    "\n",
    "class Model(nn.Module):\n",
    "    def __init__(self, in_feats, h_feats, n_classes):\n",
    "        super(Model, self).__init__()\n",
    "        self.conv1 = SAGEConv(in_feats, h_feats)\n",
    "        self.conv2 = SAGEConv(h_feats, n_classes)\n",
    "        self.relu = nn.ReLU()\n",
    "\n",
    "    def forward(self, g, in_feat):\n",
    "        h = self.conv1(g, in_feat)\n",
    "        h = self.relu(h)\n",
    "        h = self.conv2(g, h)\n",
    "        return h "
   ]
  },
  {
   "cell_type": "markdown",
   "metadata": {},
   "source": [
    "## Training Loop"
   ]
  },
  {
   "cell_type": "code",
   "execution_count": 8,
   "metadata": {},
   "outputs": [
    {
     "name": "stdout",
     "output_type": "stream",
     "text": [
      "  NumNodes: 2708\n",
      "  NumEdges: 10556\n",
      "  NumFeats: 1433\n",
      "  NumClasses: 7\n",
      "  NumTrainingSamples: 140\n",
      "  NumValidationSamples: 500\n",
      "  NumTestSamples: 1000\n",
      "Done loading data from cached files.\n"
     ]
    }
   ],
   "source": [
    "import dgl.data \n",
    "\n",
    "\n",
    "dataset = dgl.data.CoraGraphDataset()\n",
    "g = dataset[0]\n",
    "\n",
    "def criterion(pred_y, true_y, mask):\n",
    "    pred_y = pred_y[mask]\n",
    "    true_y = true_y[mask]\n",
    "    return F.cross_entropy(pred_y, true_y)\n",
    "\n",
    "def accuracy(pred_y, true_y, mask):\n",
    "    pred_y = pred_y[mask].argmax(1)\n",
    "    true_y = true_y[mask]\n",
    "    return (pred_y == true_y).float().mean()\n",
    "\n",
    "def trainer(g, model, n_epochs, device, optimizer, criterion):\n",
    "    all_logits = []\n",
    "    best_val_acc = 0 \n",
    "    best_test_acc = 0 \n",
    "\n",
    "    g = g.to(device)\n",
    "    features = g.ndata['feat']\n",
    "    labels = g.ndata['label']\n",
    "    train_mask = g.ndata['train_mask']\n",
    "    val_mask = g.ndata['val_mask']\n",
    "    test_mask = g.ndata['test_mask']\n",
    "\n",
    "    for epoch in range(1, n_epochs+1):\n",
    "\n",
    "        model.train()\n",
    "        pred_y = model(g, features).to(device)\n",
    "        loss = criterion(pred_y, labels, train_mask)\n",
    "        train_acc = accuracy(pred_y, labels, train_mask)\n",
    "        optimizer.zero_grad()\n",
    "        loss.backward()\n",
    "        optimizer.step()\n",
    "\n",
    "        val_acc = accuracy(pred_y, labels, val_mask)\n",
    "        test_acc = accuracy(pred_y, labels, test_mask)\n",
    "\n",
    "\n",
    "        if best_val_acc < val_acc :\n",
    "            best_val_acc = val_acc \n",
    "\n",
    "        if epoch % 50 == 0 :\n",
    "            print(f'epoch: [{epoch}/{n_epochs}]\\ttrain acc: {train_acc*100:.2f}\\tval acc: {val_acc*100:.2f}\\ttest acc: {test_acc*100:.2f}')"
   ]
  },
  {
   "cell_type": "code",
   "execution_count": 10,
   "metadata": {},
   "outputs": [
    {
     "name": "stdout",
     "output_type": "stream",
     "text": [
      "epoch: [50/1000]\ttrain acc: 100.00\tval acc: 75.20\ttest acc: 75.90\n",
      "epoch: [100/1000]\ttrain acc: 100.00\tval acc: 75.20\ttest acc: 75.00\n",
      "epoch: [150/1000]\ttrain acc: 100.00\tval acc: 75.60\ttest acc: 74.40\n",
      "epoch: [200/1000]\ttrain acc: 100.00\tval acc: 76.00\ttest acc: 74.60\n",
      "epoch: [250/1000]\ttrain acc: 100.00\tval acc: 75.80\ttest acc: 74.60\n",
      "epoch: [300/1000]\ttrain acc: 100.00\tval acc: 76.00\ttest acc: 74.90\n",
      "epoch: [350/1000]\ttrain acc: 100.00\tval acc: 75.80\ttest acc: 75.10\n",
      "epoch: [400/1000]\ttrain acc: 100.00\tval acc: 75.80\ttest acc: 74.90\n",
      "epoch: [450/1000]\ttrain acc: 100.00\tval acc: 75.80\ttest acc: 74.90\n",
      "epoch: [500/1000]\ttrain acc: 100.00\tval acc: 75.80\ttest acc: 75.00\n",
      "epoch: [550/1000]\ttrain acc: 100.00\tval acc: 75.40\ttest acc: 75.00\n",
      "epoch: [600/1000]\ttrain acc: 100.00\tval acc: 75.40\ttest acc: 75.10\n",
      "epoch: [650/1000]\ttrain acc: 100.00\tval acc: 75.20\ttest acc: 75.30\n",
      "epoch: [700/1000]\ttrain acc: 100.00\tval acc: 75.40\ttest acc: 75.30\n",
      "epoch: [750/1000]\ttrain acc: 100.00\tval acc: 75.80\ttest acc: 75.40\n",
      "epoch: [800/1000]\ttrain acc: 100.00\tval acc: 75.40\ttest acc: 75.40\n",
      "epoch: [850/1000]\ttrain acc: 100.00\tval acc: 75.40\ttest acc: 75.40\n",
      "epoch: [900/1000]\ttrain acc: 100.00\tval acc: 75.40\ttest acc: 75.40\n",
      "epoch: [950/1000]\ttrain acc: 100.00\tval acc: 75.40\ttest acc: 75.40\n",
      "epoch: [1000/1000]\ttrain acc: 100.00\tval acc: 75.00\ttest acc: 75.30\n"
     ]
    }
   ],
   "source": [
    "device = 'cuda' if torch.cuda.is_available() else 'cpu'\n",
    "g = g.to(device)\n",
    "model = Model(g.ndata['feat'].shape[1], 16, dataset.num_classes).to(device)\n",
    "optimizer = optim.Adam(model.parameters(), lr=1e-2)\n",
    "trainer(g, model, 1000, device, optimizer, criterion)"
   ]
  },
  {
   "cell_type": "code",
   "execution_count": null,
   "metadata": {},
   "outputs": [],
   "source": []
  }
 ],
 "metadata": {
  "kernelspec": {
   "display_name": "Python 3.7.11 ('base')",
   "language": "python",
   "name": "python3"
  },
  "language_info": {
   "codemirror_mode": {
    "name": "ipython",
    "version": 3
   },
   "file_extension": ".py",
   "mimetype": "text/x-python",
   "name": "python",
   "nbconvert_exporter": "python",
   "pygments_lexer": "ipython3",
   "version": "3.7.11"
  },
  "orig_nbformat": 4,
  "vscode": {
   "interpreter": {
    "hash": "d4d1e4263499bec80672ea0156c357c1ee493ec2b1c70f0acce89fc37c4a6abe"
   }
  }
 },
 "nbformat": 4,
 "nbformat_minor": 2
}
