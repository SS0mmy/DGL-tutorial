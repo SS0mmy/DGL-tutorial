{
 "cells": [
  {
   "cell_type": "markdown",
   "metadata": {},
   "source": [
    "## Stochastic Training of GNN with Multiple GPUs\n",
    "\n",
    "본 튜토리얼은 multi-layer GraphSAGE를 학습할 때 multiple GPU를 사용하는 방법에 대해서 다룹니다. \n",
    "\n",
    "이때 `Pytorch`의 `DistributedDataParallel`을 사용하는 것이 일반적인 솔루션입니다. "
   ]
  },
  {
   "cell_type": "code",
   "execution_count": null,
   "metadata": {},
   "outputs": [],
   "source": [
    "import numpy as np \n",
    "import dgl \n",
    "import dgl.nn as dglnn\n",
    "\n",
    "import torch \n",
    "import torch.nn as nn \n",
    "from torch.nn.parallel import DistributedDataParallel\n",
    "import torch.nn.functional as F \n",
    "import torch.multiprocessing as mp\n",
    "import sklearn.metrics as metrics \n",
    "import tqdm \n",
    "\n",
    "import utils_KDD "
   ]
  },
  {
   "cell_type": "markdown",
   "metadata": {},
   "source": [
    "## Load Dataset "
   ]
  },
  {
   "cell_type": "code",
   "execution_count": null,
   "metadata": {},
   "outputs": [],
   "source": [
    "def load_data():\n",
    "    import pickle \n",
    "\n",
    "    with open('../data.pkl', 'rb') as f:\n",
    "        data = pickle.load(f)\n",
    "    graph, node_features, node_labels, train_nids, valid_nids, test_nids = data \n",
    "    utils_KDD.prepare_mp(graph)\n",
    "\n",
    "    num_features = node_features.shape[1]\n",
    "    num_classes = (node_labels.max() + 1).item()\n",
    "\n",
    "    return graph, node_features, node_labels, train_nids, valid_nids, test_nids, num_features, num_classes\n"
   ]
  },
  {
   "cell_type": "markdown",
   "metadata": {},
   "source": [
    "## Customized Neigborhood Sampling\n",
    "\n",
    "이웃을 샘플링 할 때 `MultiLayerNeighborSampler`를 사용하면 쉽게 이웃을 샘플링할 수 있습니다. "
   ]
  },
  {
   "cell_type": "code",
   "execution_count": null,
   "metadata": {},
   "outputs": [],
   "source": [
    "class MultiLayerNeighborSampler(dgl.dataloading.BlockSampler):\n",
    "    def __init__(self, fanouts):\n",
    "        super().__init__(len(fanouts), return_eids = False)\n",
    "        self.fanouts = fanouts \n",
    "\n",
    "    def sample_frontier(self, layer_id, g, seed_nodes):\n",
    "        fanout = self.fanouts[layer_id]\n",
    "        return dgl.sampling.sample_neighbors(g, seed_nodes, fanout)"
   ]
  },
  {
   "cell_type": "markdown",
   "metadata": {},
   "source": [
    "## Defining Data Loader for Distributed Data Parallel (DDP)\n",
    "\n",
    "Pytorch DDP 각각의 worker process는 `rank`를 할당합니다. `rank`는 worker process가 처리할 데이터의 파티션을 나타냅니다. \n",
    "\n",
    "병렬처리를 하지 않는 경우 `MultiLayerNeighborSampler`를 통해 이웃을 샘플링하는 단계만 구성하면 되지만, 병렬처리를 진행하면 다음과 같이 `rank`를 지정하고 `rank`에 각각의 파티션을 부여해 병렬적으로 처리가 가능합니다. "
   ]
  },
  {
   "cell_type": "code",
   "execution_count": 2,
   "metadata": {},
   "outputs": [],
   "source": [
    "def create_dataloader(rank, world_size, graph, nids):\n",
    "    partition_size = len(nids) // world_size \n",
    "    partition_offset = partition_size * rank \n",
    "    nids = nids[partition_offset:partition_offset + partition_size]\n",
    "\n",
    "    sampler = MultiLayerNeighborSampler([4, 4, 4])\n",
    "    dataloader = dgl.dataloading.NodeDataLoader( \n",
    "        graph, nids, sampler, \n",
    "        batch_size = 1024, \n",
    "        shuffle = True, \n",
    "        drop_last = False, \n",
    "        num_workers = 0 \n",
    "    )\n",
    "    return dataloader "
   ]
  },
  {
   "cell_type": "markdown",
   "metadata": {},
   "source": [
    "## Defining Model "
   ]
  },
  {
   "cell_type": "code",
   "execution_count": null,
   "metadata": {},
   "outputs": [],
   "source": [
    "class GraphSAGE(nn.Module):\n",
    "    def __init__(self, in_feats, n_hidden, n_classes, n_layers):\n",
    "        self.in_feats = in_feats \n",
    "        self.n_hidden = n_hidden \n",
    "        self.n_layers = nn.ModuleList() \n",
    "        self.n_layers.append(dglnn.SAGEConv(in_feats, n_hidden, 'mean'))\n",
    "        for i in range(1, self.n_layers-1):\n",
    "            self.n_layers.append(n_hidden, n_hidden, 'mean')\n",
    "        self.n_layers.append(n_hidden, n_classes, 'mean')\n",
    "    \n",
    "    def forward(self, bipartites, x):\n",
    "        for l, (layer, bipartite) in enumerate(zip(self.n_layers, bipartites)):\n",
    "            x = layer(bipartite, x)\n",
    "            if l != self.n_layers -1:\n",
    "                x = F.relu(x)\n",
    "        return x "
   ]
  },
  {
   "cell_type": "markdown",
   "metadata": {},
   "source": [
    "## Distributing the Model to GPUs"
   ]
  },
  {
   "cell_type": "code",
   "execution_count": 3,
   "metadata": {},
   "outputs": [],
   "source": [
    "def init_model(rank, in_feats, n_hidden, n_classes, n_layers):\n",
    "    model = GraphSAGE(in_feats, n_hidden, n_classes, n_layers).to(rank)\n",
    "    return DistributedDataParallel(model, device_ids=[rank], output_device=rank)"
   ]
  },
  {
   "cell_type": "code",
   "execution_count": null,
   "metadata": {},
   "outputs": [],
   "source": [
    "@utils_KDD.fix_openmp\n",
    "def train(rank, world_size, data):\n",
    "    torch."
   ]
  },
  {
   "cell_type": "code",
   "execution_count": null,
   "metadata": {},
   "outputs": [],
   "source": []
  },
  {
   "cell_type": "code",
   "execution_count": null,
   "metadata": {},
   "outputs": [],
   "source": []
  },
  {
   "cell_type": "code",
   "execution_count": null,
   "metadata": {},
   "outputs": [],
   "source": []
  }
 ],
 "metadata": {
  "kernelspec": {
   "display_name": "Python 3.7.11 ('base')",
   "language": "python",
   "name": "python3"
  },
  "language_info": {
   "codemirror_mode": {
    "name": "ipython",
    "version": 3
   },
   "file_extension": ".py",
   "mimetype": "text/x-python",
   "name": "python",
   "nbconvert_exporter": "python",
   "pygments_lexer": "ipython3",
   "version": "3.7.11"
  },
  "orig_nbformat": 4,
  "vscode": {
   "interpreter": {
    "hash": "d4d1e4263499bec80672ea0156c357c1ee493ec2b1c70f0acce89fc37c4a6abe"
   }
  }
 },
 "nbformat": 4,
 "nbformat_minor": 2
}
